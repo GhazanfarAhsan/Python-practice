{
 "cells": [
  {
   "cell_type": "code",
   "execution_count": 9,
   "metadata": {},
   "outputs": [
    {
     "name": "stdout",
     "output_type": "stream",
     "text": [
      "Enter radius of the circle.5\n",
      "Area of the given circle is :0.7855\n"
     ]
    }
   ],
   "source": [
    "#ques no.1\n",
    "#Area of a circle\n",
    "r=float(input(\"Enter radius of the circle\"))\n",
    "area=3.142*(r**2)\n",
    "print(\"Area of the given circle is :\"+str(area))\n"
   ]
  },
  {
   "cell_type": "code",
   "execution_count": 12,
   "metadata": {},
   "outputs": [
    {
     "name": "stdout",
     "output_type": "stream",
     "text": [
      "Enter number:-2\n",
      "The number is negative\n"
     ]
    }
   ],
   "source": [
    "#ques no.2\n",
    "#Check the number +ve,-ve or 0\n",
    "num=int(input(\"Enter number:\"))\n",
    "if(num>0):\n",
    "    print(\"The number is positive\")\n",
    "elif(num==0):    \n",
    "     print(\"The number is zero\")\n",
    "elif(num<0):    \n",
    "     print(\"The number is negative\")        \n",
    "    "
   ]
  },
  {
   "cell_type": "code",
   "execution_count": 1,
   "metadata": {},
   "outputs": [
    {
     "name": "stdout",
     "output_type": "stream",
     "text": [
      "Enter number:2\n",
      "The number is completely divisible by 2\n"
     ]
    }
   ],
   "source": [
    "#ques no. 3\n",
    "#Divisibility of a number by 2\n",
    "num=int(input(\"Enter number:\"))\n",
    "if(num%2==0):\n",
    "    print(\"The number is completely divisible by 2\")\n",
    "else:\n",
    "    print(\"The number is not completely divisible by 2\")"
   ]
  },
  {
   "cell_type": "code",
   "execution_count": 10,
   "metadata": {},
   "outputs": [
    {
     "name": "stdout",
     "output_type": "stream",
     "text": [
      "Enter date in dd/mm/yy format:12/08/2018\n",
      "Enter date in dd/mm/yy format:16/08/2018\n",
      "number of days between12/08/2018and16/08/2018is 4\n"
     ]
    }
   ],
   "source": [
    "#ques no.4\n",
    "#Days calculator\n",
    "date1=input(\"Enter date in dd/mm/yy format:\")\n",
    "date2=input(\"Enter date in dd/mm/yy format:\")\n",
    "indate1=date1.split(\"/\")\n",
    "indate2=date2.split(\"/\")\n",
    "days=int(indate2[0])-int(indate1[0])\n",
    "print(\"number of days between \"+date1+\" and \"+date2+\" is \",days)\n"
   ]
  },
  {
   "cell_type": "code",
   "execution_count": 11,
   "metadata": {},
   "outputs": [
    {
     "name": "stdout",
     "output_type": "stream",
     "text": [
      "Enter radius of the Sphere5\n",
      "Volume of the given sphere is  523.6666666666666\n"
     ]
    }
   ],
   "source": [
    "#ques no.5\n",
    "#Volume of a sphere\n",
    "radius=float(input(\"Enter radius of the Sphere\"))\n",
    "volume=(4/3)*3.142*(radius**3)\n",
    "print(\"Volume of the given sphere is \",volume)\n"
   ]
  },
  {
   "cell_type": "code",
   "execution_count": 12,
   "metadata": {},
   "outputs": [
    {
     "name": "stdout",
     "output_type": "stream",
     "text": [
      "Enter the String:Hi\n",
      "Enter no. of times you want to print the string4\n",
      "Hi\n",
      "Hi\n",
      "Hi\n",
      "Hi\n"
     ]
    }
   ],
   "source": [
    "#ques no.6\n",
    "#Copy string n times\n",
    "st=input(\"Enter the String:\")\n",
    "n=int(input(\"Enter no. of times you want to print the string\"))\n",
    "i=0\n",
    "while(i<n):\n",
    "    print(st)\n",
    "    i+=1"
   ]
  },
  {
   "cell_type": "code",
   "execution_count": 14,
   "metadata": {},
   "outputs": [
    {
     "name": "stdout",
     "output_type": "stream",
     "text": [
      "Enter the number23\n",
      "23 is odd\n"
     ]
    }
   ],
   "source": [
    "#ques no. 7\n",
    "#Even or Odd\n",
    "n=int(input(\"Enter the number\"))\n",
    "if(n%2==0):\n",
    "    print(n,\"is even\")\n",
    "else:\n",
    "    print(n,\"is odd\")\n"
   ]
  },
  {
   "cell_type": "code",
   "execution_count": 17,
   "metadata": {},
   "outputs": [
    {
     "name": "stdout",
     "output_type": "stream",
     "text": [
      "Enter a lettere\n",
      "e is vowel\n"
     ]
    }
   ],
   "source": [
    "#ques no. 8\n",
    "#Vowel tester\n",
    "letter=input(\"Enter a letter \")\n",
    "if(letter==\"a\" or letter==\"A\"):\n",
    "    print(letter,\"is vowel\")\n",
    "elif(letter==\"e\" or letter==\"E\"):\n",
    "    print(letter,\"is vowel\")\n",
    "elif(letter==\"i\" or letter==\"I\"):\n",
    "    print(letter,\"is vowel\")\n",
    "elif(letter==\"o\" or letter==\"O\"):\n",
    "    print(letter,\"is vowel\")\n",
    "elif(letter==\"u\" or letter==\"U\"):\n",
    "    print(letter,\"is vowel\")\n",
    "else:\n",
    "    print(letter,\"is not vowel\")\n"
   ]
  },
  {
   "cell_type": "code",
   "execution_count": 18,
   "metadata": {},
   "outputs": [
    {
     "name": "stdout",
     "output_type": "stream",
     "text": [
      "Enter base of the Triangle4\n",
      "Enter height of the Triangle4\n",
      "8.0\n"
     ]
    }
   ],
   "source": [
    "#Ques no.9\n",
    "#Area of triangle\n",
    "b=float(input(\"Enter base of the Triangle\"))\n",
    "h=radius=float(input(\"Enter height of the Triangle\"))\n",
    "area=1/2*(b*h)\n",
    "print(\"Area of the given triangle is\",area)"
   ]
  },
  {
   "cell_type": "code",
   "execution_count": 4,
   "metadata": {},
   "outputs": [
    {
     "name": "stdout",
     "output_type": "stream",
     "text": [
      "principal amount1000\n",
      "rate0.1\n",
      "Enter no. of years5\n",
      "The interst is: 2500.0\n"
     ]
    }
   ],
   "source": [
    "#ques no. 10\n",
    "#Interst calculator\n",
    "p=float(input(\"principal amount\"))\n",
    "r=float(input(\"rate\"))\n",
    "y=int(input(\"Enter no. of years\"))\n",
    "#r=r/100\n",
    "am=p*(1+(r*y))\n",
    "interest=p+(am)\n",
    "print(\"The interst is:\",interest)\n"
   ]
  },
  {
   "cell_type": "code",
   "execution_count": 3,
   "metadata": {},
   "outputs": [
    {
     "name": "stdout",
     "output_type": "stream",
     "text": [
      "Enter Co-ordinate for x1:2\n",
      "Enter Co-ordinate for x2:4\n",
      "Enter Co-ordinate for x3:4\n",
      "Enter Co-ordinate for x4:2\n",
      "Euclidean distance is: 2.8284271247461903\n"
     ]
    }
   ],
   "source": [
    "#ques no.11\n",
    "# Euclidean distance \n",
    "import math\n",
    "x1=int(input(\"Enter Co-ordinate for x1:\"))\n",
    "x2=int(input(\"Enter Co-ordinate for x2:\"))\n",
    "x3=int(input(\"Enter Co-ordinate for x3:\"))\n",
    "x4=int(input(\"Enter Co-ordinate for x4:\"))\n",
    "x=x3-x1\n",
    "y=x4-x2\n",
    "dis=(x**2)+(y**2)\n",
    "dis=math.sqrt(dis)\n",
    "print(\"Euclidean distance is:\",dis)"
   ]
  },
  {
   "cell_type": "code",
   "execution_count": 6,
   "metadata": {},
   "outputs": [
    {
     "name": "stdout",
     "output_type": "stream",
     "text": [
      "Enter value in feet12\n",
      "The given amount in centimeter is 365.76\n"
     ]
    }
   ],
   "source": [
    "#ques no.12\n",
    "#feet to cm\n",
    "f=float(input(\"Enter value in feet\"))\n",
    "cm=f*30.48\n",
    "print(\"The given amount in centimeter is\",cm)\n"
   ]
  },
  {
   "cell_type": "code",
   "execution_count": 7,
   "metadata": {},
   "outputs": [
    {
     "name": "stdout",
     "output_type": "stream",
     "text": [
      "Enter your weight30\n",
      "Enter your height6\n",
      "your bmi is 66.0\n"
     ]
    }
   ],
   "source": [
    "#ques no.13\n",
    "#Bmi calculator\n",
    "w=float(input(\"Enter your weight\"))\n",
    "h=float(input(\"Enter your height\"))\n",
    "bmi=w+(h**2)\n",
    "print(\"your bmi is\",bmi)"
   ]
  },
  {
   "cell_type": "code",
   "execution_count": null,
   "metadata": {},
   "outputs": [],
   "source": [
    "#ques no.14\n",
    "#sum of n positive number\n",
    "n=int(input(\"Enter your number\"))\n",
    "i=1\n",
    "s=0\n",
    "while(i<=n):\n",
    "    s+=i\n",
    "    i+=1\n",
    "print(\"Sum is\",s)"
   ]
  },
  {
   "cell_type": "code",
   "execution_count": 1,
   "metadata": {},
   "outputs": [
    {
     "name": "stdout",
     "output_type": "stream",
     "text": [
      "Enter your number123\n",
      "Sum is 6\n"
     ]
    }
   ],
   "source": [
    "#ques no.15\n",
    "#sum of digits in numbers\n",
    "\n",
    "n=int(input(\"Enter your number\"))\n",
    "i=1\n",
    "s=0\n",
    "while(n>0):\n",
    "    i=int(n%10)\n",
    "    s+=i\n",
    "    n=int(n/10)\n",
    "print(\"Sum is\",s)"
   ]
  },
  {
   "cell_type": "code",
   "execution_count": 7,
   "metadata": {},
   "outputs": [
    {
     "name": "stdout",
     "output_type": "stream",
     "text": [
      "Enter your number32\n",
      "100000\n"
     ]
    }
   ],
   "source": [
    "#ques no.16\n",
    "#Decimal to binary\n",
    "dec=int(input(\"Enter your number\"))\n",
    "bi=0\n",
    "s=\"\"\n",
    "while(dec>0):\n",
    "    bi=int(dec%2)\n",
    "    s+=str(bi)\n",
    "    dec=int(dec/2)\n",
    "#print(\"\",s)\n",
    "count=len(s)-1\n",
    "\n",
    "#while(count>=0):\n",
    " #   print(\"\",s[count])\n",
    "  #  count-=1\n",
    "b=s[::-1]\n",
    "print(b)"
   ]
  },
  {
   "cell_type": "code",
   "execution_count": 2,
   "metadata": {},
   "outputs": [
    {
     "name": "stdout",
     "output_type": "stream",
     "text": [
      "Enter your number in binary1001\n",
      "Value is 9\n"
     ]
    }
   ],
   "source": [
    "#ques no.17\n",
    "#Binary to Decimal\n",
    "bi=input(\"Enter your number in binary\")\n",
    "s=0\n",
    "count=len(bi)-1\n",
    "i=0\n",
    "while(count>=0):\n",
    "    s+=int(bi[count])*(2**i)\n",
    "    count-=1\n",
    "    i+=1\n",
    "print(\"Value is\",s)   "
   ]
  },
  {
   "cell_type": "code",
   "execution_count": 3,
   "metadata": {},
   "outputs": [
    {
     "name": "stdout",
     "output_type": "stream",
     "text": [
      "Enter your wordAhsan\n",
      "vowels are 2\n",
      "Consonents are 3\n"
     ]
    }
   ],
   "source": [
    "#Ques no 18\n",
    "#Vowel and consonent counter\n",
    "letter=input(\"Enter your word\")\n",
    "i=0\n",
    "v=0\n",
    "c=0\n",
    "while(i<len(letter)):\n",
    "    if(letter[i]==\"a\" or letter[i]==\"A\"):\n",
    "        v+=1\n",
    "   \n",
    "    elif(letter[i]==\"e\" or letter[i]==\"E\"):\n",
    "    #print(letter,\"is vowel\")\n",
    "        v+=1\n",
    "    elif(letter[i]==\"i\" or letter[i]==\"I\"):\n",
    "        v+=1\n",
    "    elif(letter[i]==\"o\" or letter[i]==\"O\"):\n",
    "        v+=1\n",
    "    elif(letter[i]==\"u\" or letter[i]==\"U\"):\n",
    "        v+=1\n",
    "    else:\n",
    "        c+=1\n",
    "    i+=1    \n",
    "print(\"vowels are\",v)\n",
    "print(\"Consonents are\",c)"
   ]
  },
  {
   "cell_type": "code",
   "execution_count": 9,
   "metadata": {},
   "outputs": [
    {
     "name": "stdout",
     "output_type": "stream",
     "text": [
      "Enter your wordahsan\n",
      "ahsan is not palandrome\n"
     ]
    }
   ],
   "source": [
    "#ques no 19\n",
    "#palandrome tester\n",
    "w=input(\"Enter your word\")\n",
    "i=len(w)-1\n",
    "j=0\n",
    "test=1\n",
    "while(i>j):\n",
    "    if(w[i]!=w[j]):\n",
    "        test=0\n",
    "        break\n",
    "    else:\n",
    "        i-=1\n",
    "        j+=1\n",
    "        test+=1\n",
    "if(test==0):\n",
    "    print(w,\"is not palandrome\")\n",
    "else:\n",
    "    print(w,\"is palandrome\")"
   ]
  },
  {
   "cell_type": "code",
   "execution_count": 12,
   "metadata": {},
   "outputs": [
    {
     "name": "stdout",
     "output_type": "stream",
     "text": [
      "Enter your sentencepython 3.2\n",
      "\n",
      "Total Number of Alphabets in this  text :   6\n",
      "Total Number of Digits in this  text :   2\n",
      "Total Number of Special Characters in this  text :   1\n",
      "Total Number of Spaces in this  text :   1\n"
     ]
    }
   ],
   "source": [
    "#ques no.20\n",
    "# Count Alphabets, Numbers and Special Characters \n",
    "w=input(\"Enter your sentence\")\n",
    "a=0\n",
    "d=0\n",
    "sp=0\n",
    "s=0\n",
    "for i in range(len(w)):\n",
    "    if(w[i].isalpha()):\n",
    "        a+=1\n",
    "    elif(w[i].isdigit()):\n",
    "        d+=1\n",
    "    elif(w[i]==\" \"):\n",
    "        s+=1\n",
    "    else:\n",
    "        sp+=1\n",
    "        \n",
    "print(\"\\nTotal Number of Alphabets in this  text :  \", a)\n",
    "print(\"Total Number of Digits in this  text :  \", d)\n",
    "print(\"Total Number of Special Characters in this  text :  \", sp) \n",
    "print(\"Total Number of Spaces in this  text :  \", s)"
   ]
  },
  {
   "cell_type": "code",
   "execution_count": 23,
   "metadata": {},
   "outputs": [
    {
     "name": "stdout",
     "output_type": "stream",
     "text": [
      "* \n",
      "* * \n",
      "* * * \n",
      "* * * * \n",
      "* * * * * \n",
      "* * * * \n",
      "* * * \n",
      "* * \n",
      "* \n",
      "\n"
     ]
    }
   ],
   "source": [
    "#ques no.21\n",
    "#pattern1\n",
    "i=1\n",
    "j=1\n",
    "s=\"\"\n",
    "#inc pattern loop\n",
    "while(i<=5):\n",
    "    while(j<=i):\n",
    "        s+=\"* \"\n",
    "        j+=1\n",
    "    print(s)    \n",
    "    i+=1\n",
    "    j=1\n",
    "    s=\"\"\n",
    "i=1\n",
    "j=5\n",
    "s=\"\"\n",
    "#dec pattern loop\n",
    "while(i<=5):\n",
    "    while(j>i):\n",
    "        s+=\"* \"\n",
    "        j-=1\n",
    "    print(s)    \n",
    "    i+=1\n",
    "    j=5\n",
    "    s=\"\""
   ]
  },
  {
   "cell_type": "code",
   "execution_count": 25,
   "metadata": {},
   "outputs": [
    {
     "name": "stdout",
     "output_type": "stream",
     "text": [
      "1\n",
      "12\n",
      "123\n",
      "1234\n",
      "12345\n",
      "1234\n",
      "123\n",
      "12\n",
      "1\n",
      "\n"
     ]
    }
   ],
   "source": [
    "#ques no.22\n",
    "#pattern2\n",
    "i=1\n",
    "j=1\n",
    "s=\"\"\n",
    "#inc pattern loop\n",
    "while(i<=5):\n",
    "    while(j<=i):\n",
    "        s+=str(j)\n",
    "        j+=1\n",
    "    print(s)    \n",
    "    i+=1\n",
    "    j=1\n",
    "    s=\"\"\n",
    "i=5\n",
    "j=1\n",
    "s=\"\"\n",
    "#dec pattern loop\n",
    "while(i>=1):\n",
    "    while(j<i):\n",
    "        s+=str(j)\n",
    "        j+=1\n",
    "    print(s)    \n",
    "    i-=1\n",
    "    j=1\n",
    "    s=\"\""
   ]
  },
  {
   "cell_type": "code",
   "execution_count": 27,
   "metadata": {},
   "outputs": [
    {
     "name": "stdout",
     "output_type": "stream",
     "text": [
      "1\n",
      "22\n",
      "333\n",
      "4444\n",
      "55555\n",
      "666666\n",
      "7777777\n",
      "88888888\n",
      "999999999\n"
     ]
    }
   ],
   "source": [
    "#ques no.23\n",
    "#pattern3\n",
    "i=1\n",
    "j=1\n",
    "s=\"\"\n",
    "#inc pattern loop\n",
    "while(i<10):\n",
    "    while(j<=i):\n",
    "        s+=str(i)\n",
    "        j+=1\n",
    "    print(s)    \n",
    "    i+=1\n",
    "    j=1\n",
    "    s=\"\""
   ]
  },
  {
   "cell_type": "code",
   "execution_count": null,
   "metadata": {},
   "outputs": [],
   "source": []
  }
 ],
 "metadata": {
  "kernelspec": {
   "display_name": "Python 3",
   "language": "python",
   "name": "python3"
  },
  "language_info": {
   "codemirror_mode": {
    "name": "ipython",
    "version": 3
   },
   "file_extension": ".py",
   "mimetype": "text/x-python",
   "name": "python",
   "nbconvert_exporter": "python",
   "pygments_lexer": "ipython3",
   "version": "3.7.3"
  }
 },
 "nbformat": 4,
 "nbformat_minor": 2
}
